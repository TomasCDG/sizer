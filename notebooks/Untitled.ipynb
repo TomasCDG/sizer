{
 "cells": [
  {
   "cell_type": "code",
   "execution_count": 2,
   "id": "4d2a5711",
   "metadata": {},
   "outputs": [],
   "source": [
    "import sys\n",
    "import os\n",
    "\n",
    "def dirsize(basepath, unit = None, rnd = 3):\n",
    "\n",
    "    total_size = 0\n",
    "    for path, directories, files in os.walk(basepath):\n",
    "        for file in files:\n",
    "            filepath = os.path.join(path , file)\n",
    "            #print(filepath)\n",
    "            size = os.stat(filepath).st_size\n",
    "            size2 = os.path.getsize(filepath)\n",
    "            #print(filepath , size, size2)\n",
    "            total_size += size\n",
    "    \n",
    "    metric = {\"KB\":1,\"MB\":2,\"GB\":3}\n",
    "    \n",
    "    if unit != None:\n",
    "        final_size = total_size/ (1024**metric[unit])\n",
    "        return round(final_size, rnd)\n",
    "    \n",
    "    return total_size\n",
    "    \n",
    "def filesize(basepath, unit = None, rnd = 3):\n",
    "    \n",
    "    total_size = os.path.getsize(basepath)\n",
    "    \n",
    "    metric = {\"KB\":1,\"MB\":2,\"GB\":3}\n",
    "    \n",
    "    if unit != None:\n",
    "        final_size = total_size/ (1024**metric[unit])\n",
    "        return round(final_size, rnd)\n",
    "    \n",
    "    return total_size"
   ]
  },
  {
   "cell_type": "code",
   "execution_count": 3,
   "id": "d4123227",
   "metadata": {},
   "outputs": [],
   "source": [
    "def sizer(basepath, unit = None, rnd = 3):\n",
    "    #dirsize filesize\n",
    "    \n",
    "    size = 0\n",
    "    \n",
    "    for path in os.listdir(basepath):\n",
    "        \n",
    "        if os.path.isfile(path):\n",
    "            size += filesize(path, unit = unit, rnd = rnd)\n",
    "            \n",
    "        if os.path.isdir(path):\n",
    "            size += dirsize(path, unit = unit, rnd = rnd)\n",
    "        \n",
    "    return size"
   ]
  },
  {
   "cell_type": "code",
   "execution_count": 86,
   "id": "d0e31b8b",
   "metadata": {},
   "outputs": [],
   "source": [
    "def list_size(basepath, unit = None, rnd = 3, to_excel = False):\n",
    "    import pandas as pd\n",
    "\n",
    "        \n",
    "    data = []\n",
    "    \n",
    "    for path in os.listdir(basepath):\n",
    "        \n",
    "        p = os.path.join(basepath, path)\n",
    "        \n",
    "        if os.path.isfile(p):\n",
    "            size = filesize(p, unit = unit, rnd = rnd)\n",
    "            \n",
    "            #print(path, size)\n",
    "            \n",
    "            result = (path,size)\n",
    "            \n",
    "            data.append(result)\n",
    "            \n",
    "        if os.path.isdir(p):\n",
    "            size = dirsize(p, unit = unit, rnd = rnd)\n",
    "            \n",
    "            #print(path, size)\n",
    "            \n",
    "            result = (path,size)\n",
    "            \n",
    "            data.append(result)\n",
    "            \n",
    "    d = pd.DataFrame(data)\n",
    "    d.set_index(0, inplace = True)#[1]\n",
    "    d.columns = [\"sizes\"]\n",
    "    print(d.sizes.sort_values(ascending = False))"
   ]
  },
  {
   "cell_type": "code",
   "execution_count": 87,
   "id": "8dde39e2",
   "metadata": {},
   "outputs": [],
   "source": [
    "p = \"/mnt/c/Users/Windows10/Projects/autodeeplearning\""
   ]
  },
  {
   "cell_type": "code",
   "execution_count": 88,
   "id": "db226e8c",
   "metadata": {},
   "outputs": [
    {
     "name": "stdout",
     "output_type": "stream",
     "text": [
      "0\n",
      "data                822213\n",
      ".git                445076\n",
      "notebooks            53394\n",
      "autodeeplearning      8638\n",
      "Makefile              1292\n",
      "setup.py               567\n",
      "requirements.txt        37\n",
      ".gitignore              11\n",
      "scripts                  0\n",
      "Name: sizes, dtype: int64\n"
     ]
    }
   ],
   "source": [
    "list_size(p)"
   ]
  },
  {
   "cell_type": "code",
   "execution_count": null,
   "id": "6a6e57f5",
   "metadata": {},
   "outputs": [],
   "source": []
  },
  {
   "cell_type": "code",
   "execution_count": 16,
   "id": "21db9e73",
   "metadata": {},
   "outputs": [
    {
     "data": {
      "text/plain": [
       "True"
      ]
     },
     "execution_count": 16,
     "metadata": {},
     "output_type": "execute_result"
    }
   ],
   "source": [
    "os.path.isdir(p)"
   ]
  },
  {
   "cell_type": "code",
   "execution_count": 14,
   "id": "49186b54",
   "metadata": {},
   "outputs": [
    {
     "name": "stdout",
     "output_type": "stream",
     "text": [
      ".git\n",
      ".gitignore\n",
      "autodeeplearning\n",
      "data\n",
      "Makefile\n",
      "notebooks\n",
      "requirements.txt\n",
      "scripts\n",
      "setup.py\n"
     ]
    }
   ],
   "source": [
    "for i in os.listdir(p):\n",
    "    print(i)"
   ]
  },
  {
   "cell_type": "code",
   "execution_count": null,
   "id": "01961dcd",
   "metadata": {},
   "outputs": [],
   "source": []
  },
  {
   "cell_type": "code",
   "execution_count": 1,
   "id": "acaf2478",
   "metadata": {},
   "outputs": [
    {
     "ename": "FileNotFoundError",
     "evalue": "[Errno 2] No such file or directory: '-f'",
     "output_type": "error",
     "traceback": [
      "\u001b[0;31m---------------------------------------------------------------------------\u001b[0m",
      "\u001b[0;31mFileNotFoundError\u001b[0m                         Traceback (most recent call last)",
      "\u001b[0;32m<ipython-input-1-16207639fff8>\u001b[0m in \u001b[0;36m<module>\u001b[0;34m\u001b[0m\n\u001b[1;32m     85\u001b[0m \u001b[0;32mif\u001b[0m \u001b[0m__name__\u001b[0m \u001b[0;34m==\u001b[0m \u001b[0;34m\"__main__\"\u001b[0m\u001b[0;34m:\u001b[0m\u001b[0;34m\u001b[0m\u001b[0;34m\u001b[0m\u001b[0m\n\u001b[1;32m     86\u001b[0m \u001b[0;34m\u001b[0m\u001b[0m\n\u001b[0;32m---> 87\u001b[0;31m     \u001b[0mmain\u001b[0m\u001b[0;34m(\u001b[0m\u001b[0;34m)\u001b[0m\u001b[0;34m\u001b[0m\u001b[0;34m\u001b[0m\u001b[0m\n\u001b[0m\u001b[1;32m     88\u001b[0m     \u001b[0;31m#list_size(\"/mnt/c/Users/Windows10/Projects/autodeeplearning\")\u001b[0m\u001b[0;34m\u001b[0m\u001b[0;34m\u001b[0m\u001b[0;34m\u001b[0m\u001b[0m\n",
      "\u001b[0;32m<ipython-input-1-16207639fff8>\u001b[0m in \u001b[0;36mmain\u001b[0;34m()\u001b[0m\n\u001b[1;32m     74\u001b[0m             \u001b[0msize\u001b[0m \u001b[0;34m=\u001b[0m \u001b[0msizer\u001b[0m\u001b[0;34m(\u001b[0m\u001b[0msys\u001b[0m\u001b[0;34m.\u001b[0m\u001b[0margv\u001b[0m\u001b[0;34m[\u001b[0m\u001b[0;36m1\u001b[0m\u001b[0;34m]\u001b[0m\u001b[0;34m)\u001b[0m\u001b[0;34m\u001b[0m\u001b[0;34m\u001b[0m\u001b[0m\n\u001b[1;32m     75\u001b[0m         \u001b[0;32mif\u001b[0m \u001b[0mlen\u001b[0m\u001b[0;34m(\u001b[0m\u001b[0msys\u001b[0m\u001b[0;34m.\u001b[0m\u001b[0margv\u001b[0m\u001b[0;34m)\u001b[0m \u001b[0;34m==\u001b[0m \u001b[0;36m3\u001b[0m\u001b[0;34m:\u001b[0m\u001b[0;34m\u001b[0m\u001b[0;34m\u001b[0m\u001b[0m\n\u001b[0;32m---> 76\u001b[0;31m             size = sizer(sys.argv[1], \n\u001b[0m\u001b[1;32m     77\u001b[0m                 unit = sys.argv[2])\n\u001b[1;32m     78\u001b[0m         \u001b[0;32mif\u001b[0m \u001b[0mlen\u001b[0m\u001b[0;34m(\u001b[0m\u001b[0msys\u001b[0m\u001b[0;34m.\u001b[0m\u001b[0margv\u001b[0m\u001b[0;34m)\u001b[0m \u001b[0;34m==\u001b[0m \u001b[0;36m4\u001b[0m\u001b[0;34m:\u001b[0m\u001b[0;34m\u001b[0m\u001b[0;34m\u001b[0m\u001b[0m\n",
      "\u001b[0;32m<ipython-input-1-16207639fff8>\u001b[0m in \u001b[0;36msizer\u001b[0;34m(basepath, unit, rnd)\u001b[0m\n\u001b[1;32m     39\u001b[0m     \u001b[0msize\u001b[0m \u001b[0;34m=\u001b[0m \u001b[0;36m0\u001b[0m\u001b[0;34m\u001b[0m\u001b[0;34m\u001b[0m\u001b[0m\n\u001b[1;32m     40\u001b[0m \u001b[0;34m\u001b[0m\u001b[0m\n\u001b[0;32m---> 41\u001b[0;31m     \u001b[0;32mfor\u001b[0m \u001b[0mpath\u001b[0m \u001b[0;32min\u001b[0m \u001b[0mos\u001b[0m\u001b[0;34m.\u001b[0m\u001b[0mlistdir\u001b[0m\u001b[0;34m(\u001b[0m\u001b[0mbasepath\u001b[0m\u001b[0;34m)\u001b[0m\u001b[0;34m:\u001b[0m\u001b[0;34m\u001b[0m\u001b[0;34m\u001b[0m\u001b[0m\n\u001b[0m\u001b[1;32m     42\u001b[0m \u001b[0;34m\u001b[0m\u001b[0m\n\u001b[1;32m     43\u001b[0m         \u001b[0;32mif\u001b[0m \u001b[0mos\u001b[0m\u001b[0;34m.\u001b[0m\u001b[0mpath\u001b[0m\u001b[0;34m.\u001b[0m\u001b[0misfile\u001b[0m\u001b[0;34m(\u001b[0m\u001b[0mpath\u001b[0m\u001b[0;34m)\u001b[0m\u001b[0;34m:\u001b[0m\u001b[0;34m\u001b[0m\u001b[0;34m\u001b[0m\u001b[0m\n",
      "\u001b[0;31mFileNotFoundError\u001b[0m: [Errno 2] No such file or directory: '-f'"
     ]
    }
   ],
   "source": [
    "def main():\n",
    "\n",
    "        if len(sys.argv) == 1:\n",
    "            size = sizer(os.getcwd(), unit = \"MB\", rnd = 2)\n",
    "        if len(sys.argv) == 2:\n",
    "            size = sizer(sys.argv[1])\n",
    "        if len(sys.argv) == 3:\n",
    "            size = sizer(sys.argv[1], \n",
    "                unit = sys.argv[2])\n",
    "        if len(sys.argv) == 4:\n",
    "            size = sizer(sys.argv[1], \n",
    "                unit = sys.argv[2],\n",
    "                rnd = sys.argv[3])\n",
    "        if size != None:\n",
    "            print(size)\n",
    "        \n",
    "if __name__ == \"__main__\":\n",
    "    \t\n",
    "    main()\n",
    "    #list_size(\"/mnt/c/Users/Windows10/Projects/autodeeplearning\")"
   ]
  },
  {
   "cell_type": "code",
   "execution_count": null,
   "id": "55036bab",
   "metadata": {},
   "outputs": [],
   "source": []
  }
 ],
 "metadata": {
  "kernelspec": {
   "display_name": "Python 3",
   "language": "python",
   "name": "python3"
  },
  "language_info": {
   "codemirror_mode": {
    "name": "ipython",
    "version": 3
   },
   "file_extension": ".py",
   "mimetype": "text/x-python",
   "name": "python",
   "nbconvert_exporter": "python",
   "pygments_lexer": "ipython3",
   "version": "3.8.6"
  },
  "toc": {
   "base_numbering": 1,
   "nav_menu": {},
   "number_sections": true,
   "sideBar": true,
   "skip_h1_title": false,
   "title_cell": "Table of Contents",
   "title_sidebar": "Contents",
   "toc_cell": false,
   "toc_position": {},
   "toc_section_display": true,
   "toc_window_display": false
  }
 },
 "nbformat": 4,
 "nbformat_minor": 5
}
