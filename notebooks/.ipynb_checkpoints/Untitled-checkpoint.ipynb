{
 "cells": [
  {
   "cell_type": "code",
   "execution_count": 1,
   "id": "5d3aed58",
   "metadata": {},
   "outputs": [],
   "source": [
    "import os"
   ]
  },
  {
   "cell_type": "code",
   "execution_count": 7,
   "id": "8b06867a",
   "metadata": {},
   "outputs": [],
   "source": [
    "wd = os.path.dirname(os.getcwd())"
   ]
  },
  {
   "cell_type": "code",
   "execution_count": 8,
   "id": "de5a41c0",
   "metadata": {},
   "outputs": [
    {
     "data": {
      "text/plain": [
       "'/home/tomascdg/code/TomasCDG/sizer'"
      ]
     },
     "execution_count": 8,
     "metadata": {},
     "output_type": "execute_result"
    }
   ],
   "source": [
    "wd"
   ]
  },
  {
   "cell_type": "code",
   "execution_count": 14,
   "id": "fbf88fda",
   "metadata": {},
   "outputs": [
    {
     "data": {
      "text/plain": [
       "['sizer',\n",
       " 'scripts',\n",
       " '.git',\n",
       " 'notebooks',\n",
       " 'build',\n",
       " 'setup.py',\n",
       " 'sizer.egg-info']"
      ]
     },
     "execution_count": 14,
     "metadata": {},
     "output_type": "execute_result"
    }
   ],
   "source": [
    "os.listdir(wd)"
   ]
  },
  {
   "cell_type": "code",
   "execution_count": 12,
   "id": "52089f65",
   "metadata": {},
   "outputs": [
    {
     "data": {
      "text/plain": [
       "os.stat_result(st_mode=16877, st_ino=44979, st_dev=2064, st_nlink=8, st_uid=1000, st_gid=1000, st_size=4096, st_atime=1647380755, st_mtime=1647380755, st_ctime=1647380755)"
      ]
     },
     "execution_count": 12,
     "metadata": {},
     "output_type": "execute_result"
    }
   ],
   "source": [
    "\n",
    "os.stat(wd)"
   ]
  },
  {
   "cell_type": "code",
   "execution_count": 16,
   "id": "76341e5a",
   "metadata": {
    "scrolled": true
   },
   "outputs": [
    {
     "name": "stdout",
     "output_type": "stream",
     "text": [
      "0\n",
      "0\n",
      "0\n",
      "0\n",
      "0\n",
      "0\n",
      "0\n",
      "0\n",
      "0\n",
      "0\n"
     ]
    }
   ],
   "source": [
    "for i in os.stat(wd):\n",
    "    print(i.imag)"
   ]
  },
  {
   "cell_type": "code",
   "execution_count": 21,
   "id": "87178381",
   "metadata": {},
   "outputs": [
    {
     "data": {
      "text/plain": [
       "PosixPath('scripts')"
      ]
     },
     "execution_count": 21,
     "metadata": {},
     "output_type": "execute_result"
    }
   ],
   "source": [
    "import pathlib\n",
    "pathlib.Path(\"scripts\")\n",
    "# os.path( 'scripts')"
   ]
  },
  {
   "cell_type": "code",
   "execution_count": 33,
   "id": "c7936ddb",
   "metadata": {},
   "outputs": [
    {
     "data": {
      "text/plain": [
       "'/home/tomascdg/code/TomasCDG/sizer'"
      ]
     },
     "execution_count": 33,
     "metadata": {},
     "output_type": "execute_result"
    }
   ],
   "source": [
    "wd"
   ]
  },
  {
   "cell_type": "code",
   "execution_count": 44,
   "id": "565cc7c2",
   "metadata": {
    "scrolled": false
   },
   "outputs": [],
   "source": [
    "paths = []\n",
    "for path, directory, files in os.walk(wd):\n",
    "    for filename in files:\n",
    "        paths.append(os.path.join(path,filename))"
   ]
  },
  {
   "cell_type": "code",
   "execution_count": 45,
   "id": "a3be3269",
   "metadata": {},
   "outputs": [
    {
     "data": {
      "text/plain": [
       "['/home/tomascdg/code/TomasCDG/sizer/setup.py',\n",
       " '/home/tomascdg/code/TomasCDG/sizer/sizer/prueba.py',\n",
       " '/home/tomascdg/code/TomasCDG/sizer/sizer/finder.py',\n",
       " '/home/tomascdg/code/TomasCDG/sizer/sizer/lib.py',\n",
       " '/home/tomascdg/code/TomasCDG/sizer/sizer/__pycache__/lib.cpython-38.pyc',\n",
       " '/home/tomascdg/code/TomasCDG/sizer/scripts/sizer',\n",
       " '/home/tomascdg/code/TomasCDG/sizer/scripts/sizel',\n",
       " '/home/tomascdg/code/TomasCDG/sizer/scripts/sizereport',\n",
       " '/home/tomascdg/code/TomasCDG/sizer/.git/index',\n",
       " '/home/tomascdg/code/TomasCDG/sizer/.git/HEAD',\n",
       " '/home/tomascdg/code/TomasCDG/sizer/.git/packed-refs',\n",
       " '/home/tomascdg/code/TomasCDG/sizer/.git/config',\n",
       " '/home/tomascdg/code/TomasCDG/sizer/.git/description',\n",
       " '/home/tomascdg/code/TomasCDG/sizer/.git/COMMIT_EDITMSG',\n",
       " '/home/tomascdg/code/TomasCDG/sizer/.git/hooks/fsmonitor-watchman.sample',\n",
       " '/home/tomascdg/code/TomasCDG/sizer/.git/hooks/update.sample',\n",
       " '/home/tomascdg/code/TomasCDG/sizer/.git/hooks/pre-applypatch.sample',\n",
       " '/home/tomascdg/code/TomasCDG/sizer/.git/hooks/pre-push.sample',\n",
       " '/home/tomascdg/code/TomasCDG/sizer/.git/hooks/pre-receive.sample',\n",
       " '/home/tomascdg/code/TomasCDG/sizer/.git/hooks/pre-merge-commit.sample',\n",
       " '/home/tomascdg/code/TomasCDG/sizer/.git/hooks/applypatch-msg.sample',\n",
       " '/home/tomascdg/code/TomasCDG/sizer/.git/hooks/pre-commit.sample',\n",
       " '/home/tomascdg/code/TomasCDG/sizer/.git/hooks/prepare-commit-msg.sample',\n",
       " '/home/tomascdg/code/TomasCDG/sizer/.git/hooks/commit-msg.sample',\n",
       " '/home/tomascdg/code/TomasCDG/sizer/.git/hooks/post-update.sample',\n",
       " '/home/tomascdg/code/TomasCDG/sizer/.git/hooks/pre-rebase.sample',\n",
       " '/home/tomascdg/code/TomasCDG/sizer/.git/objects/49/a4482b0d7d59f10f25d8bc890a437bb88cc75b',\n",
       " '/home/tomascdg/code/TomasCDG/sizer/.git/objects/20/8829bec34fec2a828df1820f5dbb06ffc3fb00',\n",
       " '/home/tomascdg/code/TomasCDG/sizer/.git/objects/55/51d2681ab4f29cc1ee8cb45e9399fda1c143b1',\n",
       " '/home/tomascdg/code/TomasCDG/sizer/.git/objects/15/715dea8c693226a31f234090bc1dfddba9c129',\n",
       " '/home/tomascdg/code/TomasCDG/sizer/.git/objects/pack/pack-3cb018ea261a74bc2c6bd4f5dde1fe421908361e.idx',\n",
       " '/home/tomascdg/code/TomasCDG/sizer/.git/objects/pack/pack-3cb018ea261a74bc2c6bd4f5dde1fe421908361e.pack',\n",
       " '/home/tomascdg/code/TomasCDG/sizer/.git/objects/02/9748eb695c66a5046915754e2ffe19962e2fb4',\n",
       " '/home/tomascdg/code/TomasCDG/sizer/.git/objects/d0/73c873f3fc5cb11b15c28d9e621fe4af1c9393',\n",
       " '/home/tomascdg/code/TomasCDG/sizer/.git/objects/00/afa5c5c1fad22c1eb62284aac02ca45a02311d',\n",
       " '/home/tomascdg/code/TomasCDG/sizer/.git/objects/8a/206502dfc0288c07a2567034c87b094b4bf87f',\n",
       " '/home/tomascdg/code/TomasCDG/sizer/.git/objects/8a/dc9dc78132783cca6aa76e2ca481436d871a1f',\n",
       " '/home/tomascdg/code/TomasCDG/sizer/.git/objects/e2/d06d24336de1f8e102b160f64dcf73ce3b21b5',\n",
       " '/home/tomascdg/code/TomasCDG/sizer/.git/objects/de/76e45a5a723a1c6835f4359654ec80c9f77641',\n",
       " '/home/tomascdg/code/TomasCDG/sizer/.git/objects/16/abcd0eb8cf751cf1f32dcf46265fc49b33b2c4',\n",
       " '/home/tomascdg/code/TomasCDG/sizer/.git/objects/ec/57c66311919a92aafd53d21a4415b00766f00c',\n",
       " '/home/tomascdg/code/TomasCDG/sizer/.git/objects/08/ef45f1715dfbb95f7c7b48070e5f2b7c2aff18',\n",
       " '/home/tomascdg/code/TomasCDG/sizer/.git/objects/34/efbc02453c4b86075caffade479b0f26a768bf',\n",
       " '/home/tomascdg/code/TomasCDG/sizer/.git/objects/e8/f5f6a1a84628b0cade41e424dd603592807da7',\n",
       " '/home/tomascdg/code/TomasCDG/sizer/.git/objects/5d/9a96762ce368c52e2ae5c6958f04f5230b9ac1',\n",
       " '/home/tomascdg/code/TomasCDG/sizer/.git/objects/e7/e8dde7fdb78d8cbb6bc08f86b49dc845526427',\n",
       " '/home/tomascdg/code/TomasCDG/sizer/.git/objects/38/ca2f7ee3e5fc003b95447fedac85ddcf0e2c42',\n",
       " '/home/tomascdg/code/TomasCDG/sizer/.git/objects/22/5684ced58f041f879acd644b37c295a685fbdc',\n",
       " '/home/tomascdg/code/TomasCDG/sizer/.git/objects/18/cc552dc5bfe4e5de210117b87032fef3f09624',\n",
       " '/home/tomascdg/code/TomasCDG/sizer/.git/info/exclude',\n",
       " '/home/tomascdg/code/TomasCDG/sizer/.git/refs/remotes/origin/HEAD',\n",
       " '/home/tomascdg/code/TomasCDG/sizer/.git/refs/remotes/origin/master',\n",
       " '/home/tomascdg/code/TomasCDG/sizer/.git/refs/heads/master',\n",
       " '/home/tomascdg/code/TomasCDG/sizer/.git/logs/HEAD',\n",
       " '/home/tomascdg/code/TomasCDG/sizer/.git/logs/refs/remotes/origin/HEAD',\n",
       " '/home/tomascdg/code/TomasCDG/sizer/.git/logs/refs/remotes/origin/master',\n",
       " '/home/tomascdg/code/TomasCDG/sizer/.git/logs/refs/heads/master',\n",
       " '/home/tomascdg/code/TomasCDG/sizer/notebooks/Untitled.ipynb',\n",
       " '/home/tomascdg/code/TomasCDG/sizer/notebooks/.ipynb_checkpoints/Untitled-checkpoint.ipynb',\n",
       " '/home/tomascdg/code/TomasCDG/sizer/notebooks/.ipynb_checkpoints/Untitled1-checkpoint.ipynb',\n",
       " '/home/tomascdg/code/TomasCDG/sizer/build/lib/sizer/lib.py',\n",
       " '/home/tomascdg/code/TomasCDG/sizer/build/scripts-3.8/sizer',\n",
       " '/home/tomascdg/code/TomasCDG/sizer/build/scripts-3.8/sizel',\n",
       " '/home/tomascdg/code/TomasCDG/sizer/sizer.egg-info/top_level.txt',\n",
       " '/home/tomascdg/code/TomasCDG/sizer/sizer.egg-info/dependency_links.txt',\n",
       " '/home/tomascdg/code/TomasCDG/sizer/sizer.egg-info/not-zip-safe',\n",
       " '/home/tomascdg/code/TomasCDG/sizer/sizer.egg-info/SOURCES.txt',\n",
       " '/home/tomascdg/code/TomasCDG/sizer/sizer.egg-info/PKG-INFO']"
      ]
     },
     "execution_count": 45,
     "metadata": {},
     "output_type": "execute_result"
    }
   ],
   "source": [
    "paths"
   ]
  },
  {
   "cell_type": "code",
   "execution_count": 58,
   "id": "39f2132f",
   "metadata": {},
   "outputs": [
    {
     "name": "stdout",
     "output_type": "stream",
     "text": [
      "please add an extention to look fora\n",
      "please add an extention to look forb\n",
      "please add an extention to look for\n"
     ]
    }
   ],
   "source": [
    "extensions = []\n",
    "ext = \"none\"\n",
    "while not ext == \"\":\n",
    "    ext = input(\"please add an extention to look for. when done, press enter\")\n",
    "    \n",
    "    if ext == \"\":\n",
    "        break\n",
    "    extensions.append(\".\"+ext)\n",
    "    "
   ]
  },
  {
   "cell_type": "code",
   "execution_count": 59,
   "id": "7562236c",
   "metadata": {},
   "outputs": [
    {
     "data": {
      "text/plain": [
       "['.a', '.b']"
      ]
     },
     "execution_count": 59,
     "metadata": {},
     "output_type": "execute_result"
    }
   ],
   "source": [
    "extensions"
   ]
  },
  {
   "cell_type": "code",
   "execution_count": null,
   "id": "3f1017e0",
   "metadata": {},
   "outputs": [],
   "source": []
  },
  {
   "cell_type": "code",
   "execution_count": 49,
   "id": "93a2049d",
   "metadata": {},
   "outputs": [
    {
     "name": "stdout",
     "output_type": "stream",
     "text": [
      "/home/tomascdg/code/TomasCDG/sizer/sizer.egg-info/top_level.txt\n",
      "/home/tomascdg/code/TomasCDG/sizer/sizer.egg-info/dependency_links.txt\n",
      "/home/tomascdg/code/TomasCDG/sizer/sizer.egg-info/SOURCES.txt\n"
     ]
    }
   ],
   "source": [
    "for i in paths:\n",
    "    if i.endswith(\".txt\"):\n",
    "        print(i)"
   ]
  },
  {
   "cell_type": "code",
   "execution_count": null,
   "id": "d8af07f1",
   "metadata": {},
   "outputs": [],
   "source": []
  }
 ],
 "metadata": {
  "kernelspec": {
   "display_name": "Python 3 (ipykernel)",
   "language": "python",
   "name": "python3"
  },
  "language_info": {
   "codemirror_mode": {
    "name": "ipython",
    "version": 3
   },
   "file_extension": ".py",
   "mimetype": "text/x-python",
   "name": "python",
   "nbconvert_exporter": "python",
   "pygments_lexer": "ipython3",
   "version": "3.8.12"
  },
  "toc": {
   "base_numbering": 1,
   "nav_menu": {},
   "number_sections": true,
   "sideBar": true,
   "skip_h1_title": false,
   "title_cell": "Table of Contents",
   "title_sidebar": "Contents",
   "toc_cell": false,
   "toc_position": {},
   "toc_section_display": true,
   "toc_window_display": false
  }
 },
 "nbformat": 4,
 "nbformat_minor": 5
}
